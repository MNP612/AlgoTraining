{
  "nbformat": 4,
  "nbformat_minor": 0,
  "metadata": {
    "colab": {
      "name": "Coding_Tutorial_Aamir.ipynb",
      "provenance": [],
      "collapsed_sections": [],
      "include_colab_link": true
    },
    "kernelspec": {
      "name": "python3",
      "display_name": "Python 3"
    },
    "language_info": {
      "name": "python"
    }
  },
  "cells": [
    {
      "cell_type": "markdown",
      "metadata": {
        "id": "view-in-github",
        "colab_type": "text"
      },
      "source": [
        "<a href=\"https://colab.research.google.com/github/MNP612/AlgoTraining/blob/master/Coding_Tutorial_Aamir.ipynb\" target=\"_parent\"><img src=\"https://colab.research.google.com/assets/colab-badge.svg\" alt=\"Open In Colab\"/></a>"
      ]
    },
    {
      "cell_type": "markdown",
      "metadata": {
        "id": "gVOT-Es7HTrb"
      },
      "source": [
        "# Session 1 - July 9, 2021 - Bit shifting\n",
        "\n"
      ]
    },
    {
      "cell_type": "markdown",
      "metadata": {
        "id": "jLraOF30jiBs"
      },
      "source": [
        "## Problem\n",
        "* given a set of integers\n",
        "* write a procedure to return power set\n",
        "\n",
        "* example: set = (1,2,3,4)\n",
        "* powerset = (1), (2), ..., (1, 2)... , (1,2,3,4)"
      ]
    },
    {
      "cell_type": "markdown",
      "metadata": {
        "id": "IxwcMWj1Hxb-"
      },
      "source": [
        "## Tutorial by Aamir"
      ]
    },
    {
      "cell_type": "code",
      "metadata": {
        "id": "yGEawUfNkvro"
      },
      "source": [
        "# calculate 2^n (naive approach)\n",
        "\n",
        "def two_power(n):\n",
        "  result = 1\n",
        "  for _ in range(n):\n",
        "    result *= 2\n",
        "  return result"
      ],
      "execution_count": null,
      "outputs": []
    },
    {
      "cell_type": "code",
      "metadata": {
        "colab": {
          "base_uri": "https://localhost:8080/"
        },
        "id": "ckalQCxHlJVc",
        "outputId": "06a4cb94-f861-460e-ef1e-245234602e3a"
      },
      "source": [
        "for i in range(5):\n",
        "  print(i, two_power(i))"
      ],
      "execution_count": null,
      "outputs": [
        {
          "output_type": "stream",
          "text": [
            "0 1\n",
            "1 2\n",
            "2 4\n",
            "3 8\n",
            "4 16\n"
          ],
          "name": "stdout"
        }
      ]
    },
    {
      "cell_type": "code",
      "metadata": {
        "id": "54PxJhq7lmmB"
      },
      "source": [
        "# calculate 2^n (using bit shift)\n",
        "# example: n = 3. Define 1 which is 1 in binary. Bit shift 3 times -> 1000. This is now 8 as integer.   \n",
        "def two_power_opt(n):\n",
        "  return 1 << n"
      ],
      "execution_count": null,
      "outputs": []
    },
    {
      "cell_type": "code",
      "metadata": {
        "colab": {
          "base_uri": "https://localhost:8080/"
        },
        "id": "2eeP3o8QmUgs",
        "outputId": "566950b0-c190-46d3-a0fe-6ee7b2d74b9e"
      },
      "source": [
        "for i in range(5):\n",
        "  print(i, two_power_opt(i))"
      ],
      "execution_count": null,
      "outputs": [
        {
          "output_type": "stream",
          "text": [
            "0 1\n",
            "1 2\n",
            "2 4\n",
            "3 8\n",
            "4 16\n"
          ],
          "name": "stdout"
        }
      ]
    },
    {
      "cell_type": "code",
      "metadata": {
        "id": "bSh-i2ITocw3"
      },
      "source": [
        ""
      ],
      "execution_count": null,
      "outputs": []
    },
    {
      "cell_type": "code",
      "metadata": {
        "id": "T-YyAgOtmWM0"
      },
      "source": [
        "# check if a value is a power of two (naive approach)\n",
        "def check_if_pow_two(n):\n",
        "  if n == 0 or n == 1:\n",
        "    return True\n",
        "  while n > 1:\n",
        "    n = n / 2\n",
        "    if n == 1:\n",
        "      return True\n",
        "  \n",
        "  return False"
      ],
      "execution_count": null,
      "outputs": []
    },
    {
      "cell_type": "code",
      "metadata": {
        "colab": {
          "base_uri": "https://localhost:8080/"
        },
        "id": "MhuSRDVsJH2L",
        "outputId": "fa148a2a-67a3-4626-8f42-56e49f122142"
      },
      "source": [
        "[[i,check_if_pow_two(i)] for i in range(9)]"
      ],
      "execution_count": null,
      "outputs": [
        {
          "output_type": "execute_result",
          "data": {
            "text/plain": [
              "[[0, True],\n",
              " [1, True],\n",
              " [2, True],\n",
              " [3, False],\n",
              " [4, True],\n",
              " [5, False],\n",
              " [6, False],\n",
              " [7, False],\n",
              " [8, True]]"
            ]
          },
          "metadata": {
            "tags": []
          },
          "execution_count": 174
        }
      ]
    },
    {
      "cell_type": "code",
      "metadata": {
        "id": "NSp0bexsoetI"
      },
      "source": [
        "# check if a value is a power of two (using bit shift)\n",
        "# example 1: n = 4 is 100 in binary and n - 1 = 3 is 011 in binary. Therefore 100 & 011 = 000 is decimal 0\n",
        "# example 2: n = 5 is 101 in binary and n - 1 = 4 is 100 in binary. Therefore 101 & 110 = 100 is decimal 4\n",
        "def check_if_pow_two_opt(n):  \n",
        "  return n & (n - 1) == 0"
      ],
      "execution_count": null,
      "outputs": []
    },
    {
      "cell_type": "code",
      "metadata": {
        "colab": {
          "base_uri": "https://localhost:8080/"
        },
        "id": "UfTIHgWmo5cF",
        "outputId": "06392a87-ab28-4412-f82d-51b520a34995"
      },
      "source": [
        "[[i,check_if_pow_two_opt(i)] for i in range(9)]"
      ],
      "execution_count": null,
      "outputs": [
        {
          "output_type": "execute_result",
          "data": {
            "text/plain": [
              "[[0, True],\n",
              " [1, True],\n",
              " [2, True],\n",
              " [3, False],\n",
              " [4, True],\n",
              " [5, False],\n",
              " [6, False],\n",
              " [7, False],\n",
              " [8, True]]"
            ]
          },
          "metadata": {
            "tags": []
          },
          "execution_count": 178
        }
      ]
    },
    {
      "cell_type": "markdown",
      "metadata": {
        "id": "5xWvcYjPiGa1"
      },
      "source": [
        "## My Solutions"
      ]
    },
    {
      "cell_type": "markdown",
      "metadata": {
        "id": "hjpfwU6Pjcko"
      },
      "source": [
        "### Solution 1 (using binary conversion)"
      ]
    },
    {
      "cell_type": "code",
      "metadata": {
        "id": "jmw7aU9k57Rp"
      },
      "source": [
        "def get_power_set1(set):\n",
        "  power_set = []\n",
        "  n = len(set)\n",
        "  for i in range(2**n): # a size n set has 2^n elements in its power set \n",
        "    bin_list = list(bin(i))[:1:-1] # convert all elements from 0 to 2^n to binary and cast into a list. This does the permutation.\n",
        "    current_set = []\n",
        "    for j, b in enumerate(bin_list):\n",
        "      if b == '1':  # every 1 in the binary number represents an element in the subarray of the power set\n",
        "        current_set.append(set[j])\n",
        "    power_set.append(current_set) # append subarray to power set\n",
        "  return power_set"
      ],
      "execution_count": null,
      "outputs": []
    },
    {
      "cell_type": "code",
      "metadata": {
        "colab": {
          "base_uri": "https://localhost:8080/"
        },
        "id": "cGOWhv6g59H7",
        "outputId": "a35820ec-ccac-4665-d224-159bc18f3399"
      },
      "source": [
        "get_power_set1([1,9,11,5])"
      ],
      "execution_count": null,
      "outputs": [
        {
          "output_type": "execute_result",
          "data": {
            "text/plain": [
              "[[],\n",
              " [1],\n",
              " [9],\n",
              " [1, 9],\n",
              " [11],\n",
              " [1, 11],\n",
              " [9, 11],\n",
              " [1, 9, 11],\n",
              " [5],\n",
              " [1, 5],\n",
              " [9, 5],\n",
              " [1, 9, 5],\n",
              " [11, 5],\n",
              " [1, 11, 5],\n",
              " [9, 11, 5],\n",
              " [1, 9, 11, 5]]"
            ]
          },
          "metadata": {
            "tags": []
          },
          "execution_count": 151
        }
      ]
    },
    {
      "cell_type": "markdown",
      "metadata": {
        "id": "SaHoSgyRjWj-"
      },
      "source": [
        "### Solution 2 (using bit shifting as explained by Aamir)"
      ]
    },
    {
      "cell_type": "code",
      "metadata": {
        "id": "DeQMnID87jox"
      },
      "source": [
        "def get_power_set2(set):\n",
        "  power_set = []\n",
        "\n",
        "  def two_power(n): # compute 2^n\n",
        "    return 1 << n\n",
        "\n",
        "  n_two_power = two_power(len(set))\n",
        "  power_list = [x for x in range(n_two_power)] # create list from 0 to 2^n\n",
        "  \n",
        "  for i in power_list: # loop through the power_list (i = 1,2,3,...2^n)\n",
        "    current_set = []\n",
        "    for j in range(len(set)):\n",
        "      '''\n",
        "      Compare the binary value of i with every from 1 shifted bit.\n",
        "      Example 1: i = 4 is 1000 in binary. 1 << 0 is 0001. So i & 1 << j is 1000 & 0001 << 0 = 1000 & 0001 = 0000 = 0\n",
        "      Example 2: i = 4 is 1000 in binary. 1 << 4 is 1000. So i & 1 << j is 1000 & 0001 << 4 = 1000 & 1000 = 1000 = 4\n",
        "      '''\n",
        "      if (i & 1 << j) != 0: \n",
        "        '''\n",
        "        If 1 shifts by j so that it is equal to i, then there is a '1' bit at th jth position\n",
        "        If jth posiotion matches than cast jth value of input set in the subset.\n",
        "        '''\n",
        "        current_set.append(set[j])\n",
        "    power_set.append(current_set) # append subset to final power set\n",
        "  return power_set"
      ],
      "execution_count": null,
      "outputs": []
    },
    {
      "cell_type": "code",
      "metadata": {
        "colab": {
          "base_uri": "https://localhost:8080/"
        },
        "id": "vE8iJYm5kn0D",
        "outputId": "d60ec305-0f70-4c27-bf4e-3ceafa4ebe47"
      },
      "source": [
        "get_power_set2([1,9,11,5])"
      ],
      "execution_count": null,
      "outputs": [
        {
          "output_type": "execute_result",
          "data": {
            "text/plain": [
              "[[],\n",
              " [1],\n",
              " [9],\n",
              " [1, 9],\n",
              " [11],\n",
              " [1, 11],\n",
              " [9, 11],\n",
              " [1, 9, 11],\n",
              " [5],\n",
              " [1, 5],\n",
              " [9, 5],\n",
              " [1, 9, 5],\n",
              " [11, 5],\n",
              " [1, 11, 5],\n",
              " [9, 11, 5],\n",
              " [1, 9, 11, 5]]"
            ]
          },
          "metadata": {
            "tags": []
          },
          "execution_count": 9
        }
      ]
    },
    {
      "cell_type": "markdown",
      "metadata": {
        "id": "hDMTgIWoouSb"
      },
      "source": [
        "### Soultion 3 (recursion)"
      ]
    },
    {
      "cell_type": "code",
      "metadata": {
        "id": "vt_t9G2N-1ER"
      },
      "source": [
        "def power_set(lst, idx, curr_lst):\n",
        "  if idx == len(lst): # base case: finish recursion if index is at the end of the list\n",
        "    print(curr_lst)\n",
        "    return\n",
        "  power_set(lst, idx+1, [lst[idx]] + curr_lst)\n",
        "  '''\n",
        "  Examples:   initial: lst = [A,B,C] and idx = 0 and curr = [], then power_set(lst, idx+1, [lst[idx]] + curr_lst)\n",
        "                                                                    = power_set([A,B,C], 1, [A])\n",
        "                                                                    = power_set([A,B,C], 2, [A,B])\n",
        "                                                                    = power_set([A,B,C], 3, [A,B,C]) -> return\n",
        "              \n",
        "              initial: lst = [A,B,C] and idx = 2 curr = [A,B], then  power_set(lst, idx+1, [lst[idx]] + curr_lst)\n",
        "                                                    = power_set([A,B,C], 3, [C,A,B]) -> return\n",
        "              \n",
        "              initial: lst = [A,B,C] and idx = 2 curr = [A], then  power_set(lst, idx+1, [lst[idx]] + curr_lst)\n",
        "                                                                  = power_set([A,B,C], 3, [A,C]) -> return\n",
        "                                                   \n",
        "\n",
        "  '''\n",
        "  power_set(lst, idx+1, curr_lst)\n",
        "  '''\n",
        "  Examples:  initial: lst = [A, B, C] and idx = 0 and curr = [], then  power_set(lst, idx+1, curr_lst)\n",
        "                                                                      = power_set([A,B,C], 1, [])\n",
        "                                                                      = power_set([A,B,C], 2, [])\n",
        "                                                                      = power_set([A,B,C], 3, []) -> return\n",
        "                                            \n",
        "            initial: lst = [A, B, C] and idx = 2 and curr = [A,B], then  power_set(lst, idx+1, curr_lst)\n",
        "                                                                          = power_set([A,B,C], 3, [A,B]) -> return\n",
        "                                                    \n",
        "            initial: lst = [A, B, C] and idx = 1 and curr = [A], then  power_set(lst, idx+1, curr_lst)\n",
        "                                                                        = power_set([A,B,C], 2, [A])\n",
        "                                                                        = power_set([A,B,C], 3, [A]) -> return                                        \n",
        "  '''"
      ],
      "execution_count": null,
      "outputs": []
    },
    {
      "cell_type": "code",
      "metadata": {
        "colab": {
          "base_uri": "https://localhost:8080/"
        },
        "id": "rBvFzbHR5K5V",
        "outputId": "633cddd9-57a3-417d-8cbc-5cf7054d339d"
      },
      "source": [
        "lst = [1,9,11,5]\n",
        "power_set(lst, 0, [])"
      ],
      "execution_count": null,
      "outputs": [
        {
          "output_type": "stream",
          "text": [
            "[5, 11, 9, 1]\n",
            "[11, 9, 1]\n",
            "[5, 9, 1]\n",
            "[9, 1]\n",
            "[5, 11, 1]\n",
            "[11, 1]\n",
            "[5, 1]\n",
            "[1]\n",
            "[5, 11, 9]\n",
            "[11, 9]\n",
            "[5, 9]\n",
            "[9]\n",
            "[5, 11]\n",
            "[11]\n",
            "[5]\n",
            "[]\n"
          ],
          "name": "stdout"
        }
      ]
    },
    {
      "cell_type": "markdown",
      "metadata": {
        "id": "h_P3uh1wvQHp"
      },
      "source": [
        "## Homework 1 - Binary search"
      ]
    },
    {
      "cell_type": "markdown",
      "metadata": {
        "id": "3pRLR0Ldak1s"
      },
      "source": [
        "* Given the total price (e.g of a car), monthly installments and the length in month of the conctract\n",
        "* Calculate the annual interest rate\n",
        "\n",
        "* Example: <br />2000 <br /> 510<br />4<br />Returns: 9.56205462458368\n"
      ]
    },
    {
      "cell_type": "code",
      "metadata": {
        "id": "W7fyPV-svUYR"
      },
      "source": [
        "def get_rate(price, monthly_pay, months):\n",
        "  thresh = 1e-11\n",
        "  lo = 0\n",
        "  hi = 1/12\n",
        "  \n",
        "  while lo <= hi:\n",
        "    balance = price\n",
        "    \n",
        "    mid = lo + (hi -lo) /2\n",
        "    for i in range(months):\n",
        "      balance -= monthly_pay - mid *  balance\n",
        "    \n",
        "    if balance < thresh and balance > -thresh:\n",
        "      print(mid * 12 * 100)\n",
        "      return\n",
        "    elif balance < thresh:\n",
        "      lo = mid\n",
        "    else:\n",
        "      hi = mid"
      ],
      "execution_count": null,
      "outputs": []
    },
    {
      "cell_type": "code",
      "metadata": {
        "colab": {
          "base_uri": "https://localhost:8080/"
        },
        "id": "YcBnieYRHW7d",
        "outputId": "15393057-0cdb-4159-f48c-b466294e59b5"
      },
      "source": [
        "get_rate(15000, 364, 48)"
      ],
      "execution_count": null,
      "outputs": [
        {
          "output_type": "stream",
          "text": [
            "7.68785639458156\n"
          ],
          "name": "stdout"
        }
      ]
    },
    {
      "cell_type": "markdown",
      "metadata": {
        "id": "GV9MHz3yhBXU"
      },
      "source": [
        "* Given time nanoseconds, return the largest double n such that c n lg(n) <= time"
      ]
    },
    {
      "cell_type": "code",
      "metadata": {
        "id": "ip7v65FKTZuJ"
      },
      "source": [
        "import math\n",
        "\n",
        "def time(c, n):\n",
        "  return c * n * math.log(n, 2)\n",
        "\n",
        "def howMany(c, t):\n",
        "  thresh = 1e-9\n",
        "  lo = 0\n",
        "  hi = 100\n",
        "  i = 0\n",
        "  while lo <= hi:\n",
        "    \n",
        "    mid = lo + (hi - lo) / 2\n",
        "    \n",
        "    if time(c, mid) < t + thresh and time(c, mid) > t - thresh:\n",
        "      return mid\n",
        "    elif time(c, mid) > t + thresh:\n",
        "      hi = mid\n",
        "    elif time(c, mid) < t - thresh:\n",
        "      lo = mid"
      ],
      "execution_count": null,
      "outputs": []
    },
    {
      "cell_type": "code",
      "metadata": {
        "colab": {
          "base_uri": "https://localhost:8080/"
        },
        "id": "fH_VGSdwd9Ww",
        "outputId": "355ff102-419f-4971-bbb7-750117c518f5"
      },
      "source": [
        "howMany(1,8)"
      ],
      "execution_count": null,
      "outputs": [
        {
          "output_type": "execute_result",
          "data": {
            "text/plain": [
              "4.0000000000873115"
            ]
          },
          "metadata": {
            "tags": []
          },
          "execution_count": 118
        }
      ]
    },
    {
      "cell_type": "markdown",
      "metadata": {
        "id": "Ux7EVgjTwEiD"
      },
      "source": [
        "* TopCoder problem [world piece](https://community.topcoder.com/stat?c=problem_statement&pm=2420&rd=5850)"
      ]
    },
    {
      "cell_type": "code",
      "metadata": {
        "id": "4lJjDwlLeAJk"
      },
      "source": [
        "def distribute_countries(group_size, countries):\n",
        "  num_groups = 0\n",
        "  n_countries = len(countries)\n",
        "  Min = max(countries)\n",
        "  subtract_by = Min\n",
        "  while Min > 0:\n",
        "    countries = sorted(countries)[::-1]\n",
        "    Min = countries[group_size]\n",
        "    subtract_by = Min // 2 + 1\n",
        "    for i in range(group_size):\n",
        "      countries[i] -= subtract_by\n",
        "    num_groups += subtract_by\n",
        "  return num_groups\n",
        "  \n",
        "  "
      ],
      "execution_count": null,
      "outputs": []
    },
    {
      "cell_type": "code",
      "metadata": {
        "colab": {
          "base_uri": "https://localhost:8080/"
        },
        "id": "s6RUL1Qcs8U1",
        "outputId": "7634d135-afa7-42bd-96f2-e37788e063b7"
      },
      "source": [
        "distribute_countries(7, [ 96, 17, 32, 138, 112, 50, 7, 19, 412, 23, 14, 50, 47, 343, 427, 22, 39])"
      ],
      "execution_count": null,
      "outputs": [
        {
          "output_type": "execute_result",
          "data": {
            "text/plain": [
              "167"
            ]
          },
          "metadata": {
            "tags": []
          },
          "execution_count": 98
        }
      ]
    },
    {
      "cell_type": "markdown",
      "metadata": {
        "id": "RA_QjJk1wvPb"
      },
      "source": [
        "* TopCoder problem [GoldMine](https://community.topcoder.com/stat?c=problem_statement&pm=1957&rd=4650) (UNFINISHED)"
      ]
    },
    {
      "cell_type": "code",
      "metadata": {
        "id": "zITqQf9rwiYq"
      },
      "source": [
        "def getAllocation(mines, n_miners):\n",
        "  n_mines = len(mines)\n",
        "  alloc = [0] * n_mines\n",
        "  curr_miner = 0\n",
        "\n",
        "  def profit(n, m):\n",
        "    if n < m:\n",
        "      return 60\n",
        "    elif n == m:\n",
        "      return 50\n",
        "    else:\n",
        "      return -20\n",
        "  \n",
        "  def argmax(lst):\n",
        "    curr_max = lst[0]\n",
        "    curr_max_arg = 0\n",
        "    for i in range(len(lst)):\n",
        "      if lst[i] > curr_max:\n",
        "        curr_max = lst[i]\n",
        "        curr_max_arg = i \n",
        "    return i\n",
        "\n",
        "\n",
        "  while curr_miner < n_miners:\n",
        "    curr_miner += 1\n",
        "    n_miners =- 1\n",
        "    for i in range(7):\n",
        "      curr = []\n",
        "      for j in range(n_mines):\n",
        "        curr.append(.01 * mines[j][i] * profit(curr_miner, i+1))\n",
        "      \n",
        "    alloc[j] += argmax(curr) + 1\n",
        "  \n",
        "  return alloc"
      ],
      "execution_count": null,
      "outputs": []
    },
    {
      "cell_type": "code",
      "metadata": {
        "colab": {
          "base_uri": "https://localhost:8080/"
        },
        "id": "fqYbGTTI0-Yu",
        "outputId": "0c2d941a-edcf-498b-a384-265c94d9f62a"
      },
      "source": [
        "getAllocation([[000, 30, 30, 40, 000, 000, 000],\n",
        "        [20, 20, 20, 10, 10, 10, 10]], 4)"
      ],
      "execution_count": null,
      "outputs": [
        {
          "output_type": "execute_result",
          "data": {
            "text/plain": [
              "[0, 2]"
            ]
          },
          "metadata": {
            "tags": []
          },
          "execution_count": 47
        }
      ]
    },
    {
      "cell_type": "markdown",
      "metadata": {
        "id": "BNkD7bJBq8Wl"
      },
      "source": [
        "## Homework 2 - DFS"
      ]
    },
    {
      "cell_type": "markdown",
      "metadata": {
        "id": "HYNVr1RHsUUZ"
      },
      "source": [
        "* DFS - TopCoder problem [Marketing](https://community.topcoder.com/stat?c=problem_statement&pm=1524&rd=4472) (UNFINISHED)"
      ]
    },
    {
      "cell_type": "code",
      "metadata": {
        "id": "QM_3mwYQMTMH"
      },
      "source": [
        "def howMany(lst):\n",
        "\n",
        "  print(lst)\n",
        "  if not lst:\n",
        "    return 0\n",
        "  if len(lst) == 1:\n",
        "    return 0\n",
        "  for i in range(len(lst)):\n",
        "    for j in range(i+1,len(lst)):\n",
        "      if j in lst[i]:\n",
        "        return 0 + howMany(lst[0:i]) + howMany(lst[i:j]) + howMany(lst[j:-1])\n",
        "      return 1 + howMany(lst[0:i]) + howMany(lst[i:j]) + howMany(lst[j:-1])"
      ],
      "execution_count": null,
      "outputs": []
    },
    {
      "cell_type": "code",
      "metadata": {
        "colab": {
          "base_uri": "https://localhost:8080/"
        },
        "id": "gzmDwTjHs9cX",
        "outputId": "25b9b11a-fe55-4b01-e0a1-d3e5e73a8e73"
      },
      "source": [
        "howMany([[1,4],[2],[3],[0],[]])"
      ],
      "execution_count": null,
      "outputs": [
        {
          "output_type": "stream",
          "text": [
            "[[1, 4], [2], [3], [0], []]\n",
            "[]\n",
            "[[1, 4]]\n",
            "[[2], [3], [0]]\n",
            "[]\n",
            "[[2]]\n",
            "[[3]]\n"
          ],
          "name": "stdout"
        },
        {
          "output_type": "execute_result",
          "data": {
            "text/plain": [
              "1"
            ]
          },
          "metadata": {
            "tags": []
          },
          "execution_count": 170
        }
      ]
    },
    {
      "cell_type": "code",
      "metadata": {
        "id": "c23U_0Ak9c_E"
      },
      "source": [
        ""
      ],
      "execution_count": null,
      "outputs": []
    }
  ]
}